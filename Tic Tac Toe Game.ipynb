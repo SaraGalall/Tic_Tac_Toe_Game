{
 "cells": [
  {
   "cell_type": "markdown",
   "id": "871ea4a4",
   "metadata": {},
   "source": [
    "# Tic Tac Toe "
   ]
  },
  {
   "cell_type": "markdown",
   "id": "b0255b35",
   "metadata": {},
   "source": [
    "### Game Rules:\n",
    "\n",
    "1) Traditionally the first player plays with \"X\". So you can decide who wants to go with \"X\" and who wants to go with \"O\".\n",
    "2) Only one player can play at a time.\n",
    "3) If any of the players have filled a square then the other player and the same player cannot override that square.\n",
    "4) There are only two conditions that may match will be draw or may win.\n",
    "5) The player that succeeds in placing three respective marks (X or O) in a horizontal, vertical, or diagonal row wins the game."
   ]
  },
  {
   "cell_type": "markdown",
   "id": "f9dad36d",
   "metadata": {},
   "source": [
    "## __________________________________________________________________________"
   ]
  },
  {
   "cell_type": "markdown",
   "id": "0ae625d4",
   "metadata": {},
   "source": [
    "## Building The Game"
   ]
  },
  {
   "cell_type": "markdown",
   "id": "80c007ab",
   "metadata": {},
   "source": [
    "#### Global Variables\n",
    "First we will define the global variables that will be used "
   ]
  },
  {
   "cell_type": "code",
   "execution_count": 1,
   "id": "5db8d6d7",
   "metadata": {},
   "outputs": [],
   "source": [
    "# Creating a board that will hold our data\n",
    "board = [\"-\",\"-\",\"-\",\n",
    "         \"-\",\"-\",\"-\",\n",
    "         \"-\",\"-\",\"-\"]"
   ]
  },
  {
   "cell_type": "code",
   "execution_count": 2,
   "id": "5366ac72",
   "metadata": {},
   "outputs": [],
   "source": [
    "# Lets us know if the game is over\n",
    "game_still_going = True"
   ]
  },
  {
   "cell_type": "code",
   "execution_count": 3,
   "id": "80f6e1b9",
   "metadata": {},
   "outputs": [],
   "source": [
    "# Tells us who the winner is\n",
    "winner = None"
   ]
  },
  {
   "cell_type": "code",
   "execution_count": 4,
   "id": "af927a17",
   "metadata": {},
   "outputs": [],
   "source": [
    "# Tells us who the current player is (X goes first)\n",
    "current_player = \"X\""
   ]
  },
  {
   "cell_type": "markdown",
   "id": "e4482b54",
   "metadata": {},
   "source": [
    "## Functions:"
   ]
  },
  {
   "cell_type": "code",
   "execution_count": 5,
   "id": "d7a3e5dd",
   "metadata": {},
   "outputs": [],
   "source": [
    "# Display the board\n",
    "def display_board():\n",
    "    print(\"\\n\")\n",
    "    print(board[0] + \" | \" + board[1] + \" | \" + board[2] + \"     1 | 2 | 3\")\n",
    "    print(board[3] + \" | \" + board[4] + \" | \" + board[5] + \"     4 | 5 | 6\")\n",
    "    print(board[6] + \" | \" + board[7] + \" | \" + board[8] + \"     7 | 8 | 9\")\n",
    "    print(\"\\n\")"
   ]
  },
  {
   "cell_type": "code",
   "execution_count": 6,
   "id": "c4eb06d4",
   "metadata": {},
   "outputs": [
    {
     "name": "stdout",
     "output_type": "stream",
     "text": [
      "\n",
      "\n",
      "- | - | -     1 | 2 | 3\n",
      "- | - | -     4 | 5 | 6\n",
      "- | - | -     7 | 8 | 9\n",
      "\n",
      "\n"
     ]
    }
   ],
   "source": [
    "display_board()"
   ]
  },
  {
   "cell_type": "code",
   "execution_count": 7,
   "id": "86750941",
   "metadata": {},
   "outputs": [],
   "source": [
    "def handle_turn(player):\n",
    "    # get a position from the player\n",
    "    print(player + \"'s turn.\")\n",
    "    position = input(\"Choose a position from 1-9: \")\n",
    "    \n",
    "    valid = False\n",
    "    while not valid:\n",
    "        # make sure the input is valid means that it's a number from 1 to 9\n",
    "        while position not in [\"1\",\"2\",\"3\",\"4\",\"5\",\"6\",\"7\",\"8\",\"9\"]:\n",
    "            position = input(\"Invalid input. Choose a position from 1-9: \")\n",
    "            \n",
    "        # get correct index in the board list\n",
    "        position = int(position)-1\n",
    "        \n",
    "        # then make sure the spot is available on the board to avoid overriding\n",
    "        if board[position] == \"-\":\n",
    "            valid = True\n",
    "        else:\n",
    "            print(\"You can't go there. Go again.\")\n",
    "    \n",
    "    # put the game piece on the board\n",
    "    board[position] = player\n",
    "    # show the game board\n",
    "    display_board()"
   ]
  },
  {
   "cell_type": "code",
   "execution_count": 8,
   "id": "7ae098a4",
   "metadata": {},
   "outputs": [],
   "source": [
    "def check_if_game_over():\n",
    "    check_if_winner()\n",
    "    check_if_tie()"
   ]
  },
  {
   "cell_type": "code",
   "execution_count": 9,
   "id": "5a8d9fd7",
   "metadata": {},
   "outputs": [],
   "source": [
    "def check_if_winner():\n",
    "    # set up global variables\n",
    "    global winner\n",
    "    #check the winner in rows, columns or diagonals\n",
    "    # check rows\n",
    "    row_winner = check_rows()\n",
    "    # check columns\n",
    "    column_winner = check_columns()\n",
    "    #check diagonals\n",
    "    diagonal_winner = check_diagonals()\n",
    "    \n",
    "    # Get the winner\n",
    "    if row_winner:\n",
    "        winner = row_winner\n",
    "    elif column_winner:\n",
    "        winner = column_winner\n",
    "    elif diagonal_winner:\n",
    "        winner = diagonal_winner\n",
    "    else:\n",
    "        # there is no winner(Tie)\n",
    "        winner = None"
   ]
  },
  {
   "cell_type": "code",
   "execution_count": 10,
   "id": "8847afe9",
   "metadata": {},
   "outputs": [],
   "source": [
    "# Check the rows for win\n",
    "def check_rows():\n",
    "    global game_still_going\n",
    "    # Check if any of the rows have all the same value (and is not empty)\n",
    "    row_1 = board[0] == board[1] == board[2] != \"-\"\n",
    "    row_2 = board[3] == board[4] == board[5] != \"-\"\n",
    "    row_3 = board[6] == board[7] == board[8] != \"-\"\n",
    "    # If any row does have a match, then there is a win\n",
    "    if row_1 or row_2 or row_3:\n",
    "        game_still_going = False \n",
    "    # return the winner\n",
    "    if row_1:\n",
    "        return board[0]\n",
    "    elif row_2:\n",
    "        return board[3]\n",
    "    elif row_3:\n",
    "        return board[6]\n",
    "    # Or return None if there was no winner\n",
    "    else:\n",
    "        return None"
   ]
  },
  {
   "cell_type": "code",
   "execution_count": 11,
   "id": "3c9ade7d",
   "metadata": {},
   "outputs": [],
   "source": [
    "# check columns for win\n",
    "def check_columns():\n",
    "    global game_still_going\n",
    "    # Check if any of the columns have all the same value (and is not empty)\n",
    "    column_1 = board[0] == board[3] == board[6] != \"-\"\n",
    "    column_2 = board[1] == board[4] == board[7] != \"-\"\n",
    "    column_3 = board[2] == board[5] == board[8] != \"-\"\n",
    "    # If any column does have a match, then there is a win\n",
    "    if column_1 or column_2 or column_3:\n",
    "        game_still_going = False\n",
    "    # return the winner\n",
    "    if column_1:\n",
    "        return board[0]\n",
    "    elif column_2:\n",
    "        return board[1]\n",
    "    elif column_3:\n",
    "        return board[2]\n",
    "    # Or return None if there was no winner\n",
    "    else:\n",
    "        return None"
   ]
  },
  {
   "cell_type": "code",
   "execution_count": 12,
   "id": "024eb1be",
   "metadata": {},
   "outputs": [],
   "source": [
    "# check diagonals for win\n",
    "def check_diagonals():\n",
    "    global game_still_going\n",
    "     # Check if any of the diagonals have all the same value (and is not empty)\n",
    "    diagonal_1 = board[0] == board[4] == board[8] != \"-\"\n",
    "    diagonal_2 = board[2] == board[4] == board[6] != \"-\"\n",
    "    # If any diagonal does have a match, then there is a win\n",
    "    if diagonal_1 or diagonal_2:\n",
    "        game_still_going = False\n",
    "    # return the winner\n",
    "    if diagonal_1:\n",
    "        return board[0]\n",
    "    elif diagonal_2:\n",
    "        return board[2]\n",
    "    # Or return None if there was no winner\n",
    "    else:\n",
    "        return None"
   ]
  },
  {
   "cell_type": "code",
   "execution_count": 13,
   "id": "1d9ba3e4",
   "metadata": {},
   "outputs": [],
   "source": [
    "# check if there is a Tie\n",
    "def check_if_tie():\n",
    "    global game_still_going\n",
    "    # if board is full means there is tie\n",
    "    if \"-\" not in board:\n",
    "        game_still_going = False\n",
    "        return True\n",
    "    # else there is no tie\n",
    "    else: \n",
    "        return False"
   ]
  },
  {
   "cell_type": "code",
   "execution_count": 14,
   "id": "332faf73",
   "metadata": {},
   "outputs": [],
   "source": [
    "# Flip the current player from X to O, or O to X\n",
    "def flip_player():\n",
    "    global current_player\n",
    "    # if the current player was X, then change it to O\n",
    "    if current_player == \"X\":\n",
    "        current_player = \"O\"\n",
    "    # if the current player was O, then change it to X\n",
    "    elif current_player == \"O\":\n",
    "        current_player = \"X\""
   ]
  },
  {
   "cell_type": "code",
   "execution_count": 15,
   "id": "0d7bfc8d",
   "metadata": {},
   "outputs": [],
   "source": [
    "# play a game of tic tac toe\n",
    "def play_game():\n",
    "    # first we will display the board\n",
    "    display_board()\n",
    "    # Loop until the game stops (winner or tie)\n",
    "    while game_still_going:\n",
    "        # handle a single turn of a player\n",
    "        handle_turn(current_player)\n",
    "        # then we will check if the game is over\n",
    "        check_if_game_over()\n",
    "        # flip to the other player\n",
    "        flip_player()\n",
    "    # Since the game is over, print the winner or tie\n",
    "    if winner == \"X\" or winner == \"O\":\n",
    "        print(winner + \" won.\")\n",
    "    elif winner == None:\n",
    "        print (\"It is a Tie.\")"
   ]
  },
  {
   "cell_type": "code",
   "execution_count": 16,
   "id": "5e13ff3e",
   "metadata": {},
   "outputs": [
    {
     "name": "stdout",
     "output_type": "stream",
     "text": [
      "\n",
      "\n",
      "- | - | -     1 | 2 | 3\n",
      "- | - | -     4 | 5 | 6\n",
      "- | - | -     7 | 8 | 9\n",
      "\n",
      "\n",
      "X's turn.\n",
      "Choose a position from 1-9: 1\n",
      "\n",
      "\n",
      "X | - | -     1 | 2 | 3\n",
      "- | - | -     4 | 5 | 6\n",
      "- | - | -     7 | 8 | 9\n",
      "\n",
      "\n",
      "O's turn.\n",
      "Choose a position from 1-9: 2\n",
      "\n",
      "\n",
      "X | O | -     1 | 2 | 3\n",
      "- | - | -     4 | 5 | 6\n",
      "- | - | -     7 | 8 | 9\n",
      "\n",
      "\n",
      "X's turn.\n",
      "Choose a position from 1-9: 5\n",
      "\n",
      "\n",
      "X | O | -     1 | 2 | 3\n",
      "- | X | -     4 | 5 | 6\n",
      "- | - | -     7 | 8 | 9\n",
      "\n",
      "\n",
      "O's turn.\n",
      "Choose a position from 1-9: 9\n",
      "\n",
      "\n",
      "X | O | -     1 | 2 | 3\n",
      "- | X | -     4 | 5 | 6\n",
      "- | - | O     7 | 8 | 9\n",
      "\n",
      "\n",
      "X's turn.\n",
      "Choose a position from 1-9: 3\n",
      "\n",
      "\n",
      "X | O | X     1 | 2 | 3\n",
      "- | X | -     4 | 5 | 6\n",
      "- | - | O     7 | 8 | 9\n",
      "\n",
      "\n",
      "O's turn.\n",
      "Choose a position from 1-9: 6\n",
      "\n",
      "\n",
      "X | O | X     1 | 2 | 3\n",
      "- | X | O     4 | 5 | 6\n",
      "- | - | O     7 | 8 | 9\n",
      "\n",
      "\n",
      "X's turn.\n",
      "Choose a position from 1-9: 7\n",
      "\n",
      "\n",
      "X | O | X     1 | 2 | 3\n",
      "- | X | O     4 | 5 | 6\n",
      "X | - | O     7 | 8 | 9\n",
      "\n",
      "\n",
      "X won.\n"
     ]
    }
   ],
   "source": [
    "# Start playing a game of tic tac toe\n",
    "play_game()"
   ]
  }
 ],
 "metadata": {
  "kernelspec": {
   "display_name": "Python 3 (ipykernel)",
   "language": "python",
   "name": "python3"
  },
  "language_info": {
   "codemirror_mode": {
    "name": "ipython",
    "version": 3
   },
   "file_extension": ".py",
   "mimetype": "text/x-python",
   "name": "python",
   "nbconvert_exporter": "python",
   "pygments_lexer": "ipython3",
   "version": "3.10.9"
  }
 },
 "nbformat": 4,
 "nbformat_minor": 5
}
